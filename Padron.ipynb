{
 "cells": [
  {
   "cell_type": "markdown",
   "metadata": {},
   "source": [
    "# Ejercicio de las prácticas del Padrón."
   ]
  },
  {
   "cell_type": "markdown",
   "metadata": {},
   "source": [
    "Antes de hacer nada, tenemos que __crear la sesión__.  \n",
    "\n",
    "Para ello utilizaremos __findspark.init()__, que nos permitirá utilizar las funciones de pyspark.  \n",
    "Después configuraremos nuestra sesión con __SparkSession__."
   ]
  },
  {
   "cell_type": "code",
   "execution_count": 1,
   "metadata": {},
   "outputs": [],
   "source": [
    "# Crear sesión\n",
    "import findspark\n",
    "findspark.init()\n",
    "import pyspark\n",
    "from pyspark.sql import SparkSession\n",
    "spark = (SparkSession\n",
    "        .builder\n",
    "        .appName(\"PadronPySpark\")\n",
    "        .getOrCreate())"
   ]
  },
  {
   "cell_type": "markdown",
   "metadata": {},
   "source": [
    "Pyspark nos permite importar __clases__ con diferentes funcionalidades.  \n",
    "En el siguiente comando importo algunas de las __funciones__ que uso a lo largo de los ejercicos."
   ]
  },
  {
   "cell_type": "code",
   "execution_count": 2,
   "metadata": {},
   "outputs": [],
   "source": [
    "# Imports\n",
    "from pyspark.sql.functions import trim, col, length, lit, round\n",
    "from pyspark.sql import Window"
   ]
  },
  {
   "cell_type": "markdown",
   "metadata": {},
   "source": [
    "Importamos el archivo con diferentes opciones:\n",
    "* Con __header__ indicamos si los datos vienen con una linea al principio con la estructura.\n",
    "* Con __inferSchema__ indicamos si queremos que se use el header como schema.\n",
    "* Con __delimiter__ indicamos el caracter que separa los valores de las distintas columnas.\n",
    "* Con __quotes__ indicamos si el caracter que delimita los valores de las columnas.\n",
    "* __emptyValue__ sirve para convertir los nulls en el valor que queramos."
   ]
  },
  {
   "cell_type": "code",
   "execution_count": 3,
   "metadata": {},
   "outputs": [
    {
     "name": "stdout",
     "output_type": "stream",
     "text": [
      "+------------+--------------------+---------------+--------------------+----------+----------------+-----------+------------+----------------+----------------+------------------+------------------+\n",
      "|COD_DISTRITO|       DESC_DISTRITO|COD_DIST_BARRIO|         DESC_BARRIO|COD_BARRIO|COD_DIST_SECCION|COD_SECCION|COD_EDAD_INT|EspanolesHombres|EspanolesMujeres|ExtranjerosHombres|ExtranjerosMujeres|\n",
      "+------------+--------------------+---------------+--------------------+----------+----------------+-----------+------------+----------------+----------------+------------------+------------------+\n",
      "|           1|CENTRO              |            101|PALACIO             |         1|            1006|          6|         103|               0|               1|                 0|                 0|\n",
      "|           1|CENTRO              |            101|PALACIO             |         1|            1007|          7|           0|               1|               1|                 0|                 3|\n",
      "|           1|CENTRO              |            101|PALACIO             |         1|            1007|          7|           1|               2|               3|                 0|                 0|\n",
      "|           1|CENTRO              |            101|PALACIO             |         1|            1007|          7|           2|               1|               4|                 0|                 0|\n",
      "|           1|CENTRO              |            101|PALACIO             |         1|            1007|          7|           3|               4|               0|                 0|                 0|\n",
      "+------------+--------------------+---------------+--------------------+----------+----------------+-----------+------------+----------------+----------------+------------------+------------------+\n",
      "only showing top 5 rows\n",
      "\n"
     ]
    }
   ],
   "source": [
    "# 6.1 Importar csv con opcs que quiten espacios y cambien null por 0\n",
    "ruta = \"C:/Users/carlos.ibanez/Documents/CursoBigData/Rango_Edades_Seccion_202012.csv\"\n",
    "padron_df_raw = (spark.read.format(\"csv\")\n",
    "             .option(\"header\", \"true\")\n",
    "            .option(\"inferSchema\", \"true\")\n",
    "            .option(\"delimiter\", \";\")\n",
    "            .option(\"quotes\", \"\\\"\")\n",
    "            .option(\"emptyValue\", 0)\n",
    "            .load(ruta))\n",
    "padron_df_raw.show(5)"
   ]
  },
  {
   "cell_type": "markdown",
   "metadata": {},
   "source": [
    "Esta función nos sirve para borrar todos los espacios en blanco."
   ]
  },
  {
   "cell_type": "code",
   "execution_count": 4,
   "metadata": {},
   "outputs": [
    {
     "name": "stdout",
     "output_type": "stream",
     "text": [
      "+------------+-------------+---------------+-----------+----------+----------------+-----------+------------+----------------+----------------+------------------+------------------+\n",
      "|COD_DISTRITO|DESC_DISTRITO|COD_DIST_BARRIO|DESC_BARRIO|COD_BARRIO|COD_DIST_SECCION|COD_SECCION|COD_EDAD_INT|EspanolesHombres|EspanolesMujeres|ExtranjerosHombres|ExtranjerosMujeres|\n",
      "+------------+-------------+---------------+-----------+----------+----------------+-----------+------------+----------------+----------------+------------------+------------------+\n",
      "|           1|       CENTRO|            101|    PALACIO|         1|            1006|          6|         103|               0|               1|                 0|                 0|\n",
      "|           1|       CENTRO|            101|    PALACIO|         1|            1007|          7|           0|               1|               1|                 0|                 3|\n",
      "|           1|       CENTRO|            101|    PALACIO|         1|            1007|          7|           1|               2|               3|                 0|                 0|\n",
      "|           1|       CENTRO|            101|    PALACIO|         1|            1007|          7|           2|               1|               4|                 0|                 0|\n",
      "|           1|       CENTRO|            101|    PALACIO|         1|            1007|          7|           3|               4|               0|                 0|                 0|\n",
      "+------------+-------------+---------------+-----------+----------+----------------+-----------+------------+----------------+----------------+------------------+------------------+\n",
      "only showing top 5 rows\n",
      "\n"
     ]
    }
   ],
   "source": [
    "# Limpiar espacios\n",
    "padron_df = padron_df_raw.select([(trim(i[0])).alias(i[0]) if i[1] == \"string\" else i[0] for i in padron_df_raw.select(\"*\").dtypes])\n",
    "\n",
    "padron_df.show(5)"
   ]
  },
  {
   "cell_type": "markdown",
   "metadata": {},
   "source": [
    "Spark nos permite utilizar las funciones típicas de __sql__ como comandos en un _DataFrame_."
   ]
  },
  {
   "cell_type": "code",
   "execution_count": 5,
   "metadata": {},
   "outputs": [
    {
     "name": "stdout",
     "output_type": "stream",
     "text": [
      "+--------------------+\n",
      "|         DESC_BARRIO|\n",
      "+--------------------+\n",
      "|        VALDEFUENTES|\n",
      "|       LOS JERONIMOS|\n",
      "|            ABRANTES|\n",
      "|            VALVERDE|\n",
      "|              CORTES|\n",
      "|   PALOMERAS SURESTE|\n",
      "|CIUDAD UNIVERSITARIA|\n",
      "|      CUATRO VIENTOS|\n",
      "|           TRAFALGAR|\n",
      "|    ALAMEDA DE OSUNA|\n",
      "|              HELLIN|\n",
      "|          PRADOLONGO|\n",
      "|            MOSCARDO|\n",
      "|          VALDEZARZA|\n",
      "|           RECOLETOS|\n",
      "|             HORCAJO|\n",
      "|        EL CAÑAVERAL|\n",
      "|             EL VISO|\n",
      "|        VISTA ALEGRE|\n",
      "|    PUERTA DEL ANGEL|\n",
      "+--------------------+\n",
      "only showing top 20 rows\n",
      "\n"
     ]
    }
   ],
   "source": [
    "# 6.3 Enumerar todos los barrios diferentes\n",
    "barrios = (padron_df\n",
    "           .select(\"DESC_BARRIO\")\n",
    "           .distinct())\n",
    "barrios.show()"
   ]
  },
  {
   "cell_type": "markdown",
   "metadata": {},
   "source": [
    "También nos permite crear __views__ y usar directamente toda la sintaxis sql."
   ]
  },
  {
   "cell_type": "code",
   "execution_count": 6,
   "metadata": {},
   "outputs": [
    {
     "name": "stdout",
     "output_type": "stream",
     "text": [
      "+---------------------------+\n",
      "|count(DISTINCT desc_barrio)|\n",
      "+---------------------------+\n",
      "|                        132|\n",
      "+---------------------------+\n",
      "\n"
     ]
    }
   ],
   "source": [
    "# 6.4 Contar número de barrios a través de view padrón\n",
    "padron_df.createOrReplaceTempView(\"padron\")\n",
    "spark.sql(\"select count(distinct desc_barrio) from padron\").show()\n"
   ]
  },
  {
   "cell_type": "markdown",
   "metadata": {},
   "source": [
    "A parte de seleccionar columnas de los datos originales, podemos __crear nuevas columnas__ a partir de ellas."
   ]
  },
  {
   "cell_type": "code",
   "execution_count": 7,
   "metadata": {},
   "outputs": [
    {
     "name": "stdout",
     "output_type": "stream",
     "text": [
      "+-------------------+--------+\n",
      "|      Desc_Distrito|Longitud|\n",
      "+-------------------+--------+\n",
      "|         ARGANZUELA|      10|\n",
      "|FUENCARRAL-EL PARDO|      19|\n",
      "|              USERA|       5|\n",
      "|          SALAMANCA|       9|\n",
      "| PUENTE DE VALLECAS|      18|\n",
      "|  VILLA DE VALLECAS|      17|\n",
      "|           CHAMBERI|       8|\n",
      "|          VICALVARO|       9|\n",
      "|             RETIRO|       6|\n",
      "|             CENTRO|       6|\n",
      "|SAN BLAS-CANILLEJAS|      19|\n",
      "|          CHAMARTIN|       9|\n",
      "|             LATINA|       6|\n",
      "|          MORATALAZ|       9|\n",
      "|            BARAJAS|       7|\n",
      "|             TETUAN|       6|\n",
      "|      CIUDAD LINEAL|      13|\n",
      "|          HORTALEZA|       9|\n",
      "|         VILLAVERDE|      10|\n",
      "|        CARABANCHEL|      11|\n",
      "+-------------------+--------+\n",
      "only showing top 20 rows\n",
      "\n"
     ]
    }
   ],
   "source": [
    "# 6.5 Crear nueva columna que muestre la longitud de desc_distrito\n",
    "padron_length = (padron_df\n",
    "                 .withColumn(\"Longitud\", length(col(\"DESC_DISTRITO\")))\n",
    "                 .select(\"Desc_Distrito\", \"Longitud\")\n",
    "                 .distinct()\n",
    "                 .show())"
   ]
  },
  {
   "cell_type": "markdown",
   "metadata": {},
   "source": [
    "O usando valores literales o no relacionados con los datos originales."
   ]
  },
  {
   "cell_type": "code",
   "execution_count": 8,
   "metadata": {},
   "outputs": [
    {
     "name": "stdout",
     "output_type": "stream",
     "text": [
      "+-------------------+-----+\n",
      "|      Desc_Distrito|Cinco|\n",
      "+-------------------+-----+\n",
      "|          VICALVARO|    5|\n",
      "|             TETUAN|    5|\n",
      "|           CHAMBERI|    5|\n",
      "|             RETIRO|    5|\n",
      "|  VILLA DE VALLECAS|    5|\n",
      "|         VILLAVERDE|    5|\n",
      "|        CARABANCHEL|    5|\n",
      "|              USERA|    5|\n",
      "|            BARAJAS|    5|\n",
      "|          CHAMARTIN|    5|\n",
      "|    MONCLOA-ARAVACA|    5|\n",
      "|      CIUDAD LINEAL|    5|\n",
      "|          MORATALAZ|    5|\n",
      "|         ARGANZUELA|    5|\n",
      "|          SALAMANCA|    5|\n",
      "|          HORTALEZA|    5|\n",
      "|SAN BLAS-CANILLEJAS|    5|\n",
      "|             CENTRO|    5|\n",
      "|FUENCARRAL-EL PARDO|    5|\n",
      "| PUENTE DE VALLECAS|    5|\n",
      "+-------------------+-----+\n",
      "only showing top 20 rows\n",
      "\n"
     ]
    }
   ],
   "source": [
    "# Crear una columna que muestre el valor 5\n",
    "padron_5 = (padron_df\n",
    "            .withColumn(\"Cinco\", lit(\"5\"))\n",
    "            .select(\"Desc_Distrito\", \"Cinco\")\n",
    "            .distinct())\n",
    "padron_5.show()"
   ]
  },
  {
   "cell_type": "markdown",
   "metadata": {},
   "source": [
    "Del mismo modo que podemos añadir columnas, también podemos __quitarlas__."
   ]
  },
  {
   "cell_type": "code",
   "execution_count": 9,
   "metadata": {},
   "outputs": [
    {
     "name": "stdout",
     "output_type": "stream",
     "text": [
      "+-------------------+\n",
      "|      Desc_Distrito|\n",
      "+-------------------+\n",
      "|          VICALVARO|\n",
      "|             TETUAN|\n",
      "|           CHAMBERI|\n",
      "|             RETIRO|\n",
      "|  VILLA DE VALLECAS|\n",
      "|         VILLAVERDE|\n",
      "|        CARABANCHEL|\n",
      "|              USERA|\n",
      "|            BARAJAS|\n",
      "|          CHAMARTIN|\n",
      "|    MONCLOA-ARAVACA|\n",
      "|      CIUDAD LINEAL|\n",
      "|          MORATALAZ|\n",
      "|         ARGANZUELA|\n",
      "|          SALAMANCA|\n",
      "|          HORTALEZA|\n",
      "|SAN BLAS-CANILLEJAS|\n",
      "|             CENTRO|\n",
      "|FUENCARRAL-EL PARDO|\n",
      "| PUENTE DE VALLECAS|\n",
      "+-------------------+\n",
      "only showing top 20 rows\n",
      "\n"
     ]
    }
   ],
   "source": [
    "# 6.7 Borrar la columna\n",
    "padron_drop = padron_5.drop(\"Cinco\")\n",
    "padron_drop.show()"
   ]
  },
  {
   "cell_type": "markdown",
   "metadata": {},
   "source": [
    "Spark nos da la opción de __particionar__ las tablas por columnas."
   ]
  },
  {
   "cell_type": "code",
   "execution_count": 10,
   "metadata": {},
   "outputs": [],
   "source": [
    "# 6.8 Particionar DataFrame por Desc_Distrito y Desc_Barrio\n",
    "padron_part = (padron_df\n",
    "              .repartition(col(\"Desc_Distrito\"), col(\"Desc_Barrio\")))"
   ]
  },
  {
   "cell_type": "markdown",
   "metadata": {},
   "source": [
    "También podemos alamacenar los dataframes en __caché__.\n",
    "Esto resulta muy util si vamos a ejecutar un comando repetidas veces, ya que hace que la primera ejecución sea más lenta, pero las demás __mucho más rápidas__."
   ]
  },
  {
   "cell_type": "code",
   "execution_count": 11,
   "metadata": {},
   "outputs": [
    {
     "data": {
      "text/plain": [
       "237675"
      ]
     },
     "execution_count": 11,
     "metadata": {},
     "output_type": "execute_result"
    }
   ],
   "source": [
    "# 6.9 Almacenar en cache\n",
    "padron_part.cache()\n",
    "padron_part.count()\n",
    "padron_part.count()"
   ]
  },
  {
   "cell_type": "markdown",
   "metadata": {},
   "source": [
    "Se pueden usar las funciones típicas de sql como sum, avg, min, max... y agruparlas."
   ]
  },
  {
   "cell_type": "code",
   "execution_count": 12,
   "metadata": {},
   "outputs": [
    {
     "name": "stdout",
     "output_type": "stream",
     "text": [
      "+-------------------+--------------------+---------+---------+-----------+-----------+\n",
      "|      Desc_Distrito|         Desc_Barrio|Espanoles|Espanolas|Extranjeros|Extranjeras|\n",
      "+-------------------+--------------------+---------+---------+-----------+-----------+\n",
      "|FUENCARRAL-EL PARDO|          MIRASIERRA|    15846|    16938|        686|       1116|\n",
      "|          SALAMANCA|          CASTELLANA|     6156|     7811|       1364|       1900|\n",
      "|SAN BLAS-CANILLEJAS|         EL SALVADOR|     4942|     5456|        462|        553|\n",
      "|    MONCLOA-ARAVACA|       CASA DE CAMPO|     5473|     6391|        657|        659|\n",
      "|          HORTALEZA|        VALDEFUENTES|    28206|    28615|       2824|       3748|\n",
      "|          MORATALAZ|          MARROQUINA|    11544|    13430|        844|       1049|\n",
      "|             TETUAN|       BELLAS VISTAS|    10268|    12092|       3240|       4011|\n",
      "|             CENTRO|            JUSTICIA|     7099|     6841|       2228|       2103|\n",
      "|             CENTRO|         UNIVERSIDAD|    12679|    12755|       4083|       4078|\n",
      "|      CIUDAD LINEAL|             ATALAYA|      599|      783|         82|        102|\n",
      "|             TETUAN|BARRIOS EN EDIF. BDC|        0|        1|          0|          0|\n",
      "|             TETUAN|          BERRUGUETE|     8775|    10529|       2783|       3713|\n",
      "|          VICALVARO|   CASCO H.VICALVARO|    13438|    14623|       3793|       3870|\n",
      "|          CHAMARTIN|            CASTILLA|     7209|     8231|        719|        992|\n",
      "|         ARGANZUELA|             LEGAZPI|     8942|     9288|        701|        775|\n",
      "|SAN BLAS-CANILLEJAS|              HELLIN|     3634|     4248|        684|        837|\n",
      "|          CHAMARTIN|      HISPANOAMERICA|    13246|    15950|       1036|       1545|\n",
      "|  VILLA DE VALLECAS|       SANTA EUGENIA|    10449|    11325|       1244|       1406|\n",
      "|             CENTRO|         EMBAJADORES|    16694|    16809|       8230|       5787|\n",
      "|         VILLAVERDE|         LOS ANGELES|    12427|    14317|       2916|       3232|\n",
      "+-------------------+--------------------+---------+---------+-----------+-----------+\n",
      "only showing top 20 rows\n",
      "\n"
     ]
    }
   ],
   "source": [
    "# 6.10 Obtener totales de españoles y extranjeros por barrio y distrito\n",
    "(padron_part.select(\"Desc_Distrito\", \"Desc_Barrio\",\n",
    "                                 \"EspanolesHombres\", \"EspanolesMujeres\", \"ExtranjerosHombres\", \"ExtranjerosMujeres\")\n",
    " .groupBy(\"Desc_Distrito\", \"Desc_Barrio\")\n",
    " .sum(\"EspanolesHombres\", \"EspanolesMujeres\", \"ExtranjerosHombres\", \"ExtranjerosMujeres\")\n",
    " .withColumnRenamed(\"sum(EspanolesHombres)\",\"Espanoles\")\n",
    " .withColumnRenamed(\"sum(EspanolesMujeres)\",\"Espanolas\")\n",
    " .withColumnRenamed(\"sum(ExtranjerosHombres)\",\"Extranjeros\")\n",
    " .withColumnRenamed(\"sum(ExtranjerosMujeres)\",\"Extranjeras\")\n",
    " .show())"
   ]
  },
  {
   "cell_type": "code",
   "execution_count": 13,
   "metadata": {},
   "outputs": [
    {
     "data": {
      "text/plain": [
       "DataFrame[COD_DISTRITO: int, DESC_DISTRITO: string, COD_DIST_BARRIO: int, DESC_BARRIO: string, COD_BARRIO: int, COD_DIST_SECCION: int, COD_SECCION: int, COD_EDAD_INT: int, EspanolesHombres: int, EspanolesMujeres: int, ExtranjerosHombres: int, ExtranjerosMujeres: int]"
      ]
     },
     "execution_count": 13,
     "metadata": {},
     "output_type": "execute_result"
    }
   ],
   "source": [
    "# 6.11 Quitar cache\n",
    "padron_part.unpersist()"
   ]
  },
  {
   "cell_type": "markdown",
   "metadata": {},
   "source": [
    "Se pueden hacer joins entre distintas tablas."
   ]
  },
  {
   "cell_type": "code",
   "execution_count": 14,
   "metadata": {},
   "outputs": [
    {
     "name": "stdout",
     "output_type": "stream",
     "text": [
      "+------------------+--------------------+---------+\n",
      "|Descripcion_Barrio|Descripcion_Distrito|Espanoles|\n",
      "+------------------+--------------------+---------+\n",
      "|           ACACIAS|          ARGANZUELA|    15438|\n",
      "|          VALVERDE| FUENCARRAL-EL PARDO|    26976|\n",
      "|    FUENTELARREINA| FUENCARRAL-EL PARDO|     1431|\n",
      "|           PAVONES|           MORATALAZ|     3657|\n",
      "|         EL GOLOSO| FUENCARRAL-EL PARDO|     8898|\n",
      "|          CANILLAS|           HORTALEZA|    17029|\n",
      "| SAN JUAN BAUTISTA|       CIUDAD LINEAL|     5239|\n",
      "|       PROSPERIDAD|           CHAMARTIN|    14638|\n",
      "|       COSTILLARES|       CIUDAD LINEAL|     9871|\n",
      "|           LEGAZPI|          ARGANZUELA|     8942|\n",
      "|       PEÑA GRANDE| FUENCARRAL-EL PARDO|    19103|\n",
      "|      EL CAÑAVERAL|           VICALVARO|     1993|\n",
      "|        CAMPAMENTO|              LATINA|     7187|\n",
      "|        GAZTAMBIDE|            CHAMBERI|     8960|\n",
      "|  PUERTA DEL ANGEL|              LATINA|    15250|\n",
      "|        SAN ISIDRO|         CARABANCHEL|    14493|\n",
      "|              GOYA|           SALAMANCA|    10955|\n",
      "|       UNIVERSIDAD|              CENTRO|    12679|\n",
      "|          NUMANCIA|  PUENTE DE VALLECAS|    17290|\n",
      "|           PALOMAS|           HORTALEZA|     3011|\n",
      "+------------------+--------------------+---------+\n",
      "only showing top 20 rows\n",
      "\n"
     ]
    }
   ],
   "source": [
    "# 6.12 Crear un DataFrame que solo muestre Desc_Barrio, Desc_Distrito y el numero total de EspanolesHombres\n",
    "padron_esho = (padron_df.select(\"Desc_Barrio\", \"Desc_Distrito\", \"EspanolesHombres\")\n",
    "              .groupBy(\"Desc_Barrio\", \"Desc_Distrito\")\n",
    "              .sum(\"EspanolesHombres\")\n",
    "              .withColumnRenamed(\"sum(EspanolesHombres)\",\"Espanoles\")\n",
    "              .withColumnRenamed(\"Desc_Barrio\",\"Descripcion_Barrio\")\n",
    "              .withColumnRenamed(\"Desc_Distrito\",\"Descripcion_Distrito\"))\n",
    "\n",
    "(padron_esho.join(padron_df,\n",
    "                  (padron_df.DESC_BARRIO == padron_esho.Descripcion_Barrio) &\n",
    "                  (padron_df.DESC_DISTRITO == padron_esho.Descripcion_Distrito))\n",
    ".select(\"Descripcion_Barrio\", \"Descripcion_Distrito\", \"Espanoles\")\n",
    ".distinct()\n",
    ".show())"
   ]
  },
  {
   "cell_type": "markdown",
   "metadata": {},
   "source": [
    "Spark tiene la opción de crear funciones de ventana."
   ]
  },
  {
   "cell_type": "code",
   "execution_count": 15,
   "metadata": {},
   "outputs": [
    {
     "name": "stdout",
     "output_type": "stream",
     "text": [
      "+-----------------+-------------------+-----+\n",
      "|      Desc_Barrio|      Desc_Distrito|Total|\n",
      "+-----------------+-------------------+-----+\n",
      "|          ACACIAS|         ARGANZUELA|15438|\n",
      "|         VALVERDE|FUENCARRAL-EL PARDO|26976|\n",
      "|   FUENTELARREINA|FUENCARRAL-EL PARDO| 1431|\n",
      "|          PAVONES|          MORATALAZ| 3657|\n",
      "|        EL GOLOSO|FUENCARRAL-EL PARDO| 8898|\n",
      "|         CANILLAS|          HORTALEZA|17029|\n",
      "|SAN JUAN BAUTISTA|      CIUDAD LINEAL| 5239|\n",
      "|      PROSPERIDAD|          CHAMARTIN|14638|\n",
      "|      COSTILLARES|      CIUDAD LINEAL| 9871|\n",
      "|          LEGAZPI|         ARGANZUELA| 8942|\n",
      "|      PEÑA GRANDE|FUENCARRAL-EL PARDO|19103|\n",
      "|     EL CAÑAVERAL|          VICALVARO| 1993|\n",
      "|       CAMPAMENTO|             LATINA| 7187|\n",
      "|       GAZTAMBIDE|           CHAMBERI| 8960|\n",
      "| PUERTA DEL ANGEL|             LATINA|15250|\n",
      "|       SAN ISIDRO|        CARABANCHEL|14493|\n",
      "|             GOYA|          SALAMANCA|10955|\n",
      "|      UNIVERSIDAD|             CENTRO|12679|\n",
      "|         NUMANCIA| PUENTE DE VALLECAS|17290|\n",
      "|          PALOMAS|          HORTALEZA| 3011|\n",
      "+-----------------+-------------------+-----+\n",
      "only showing top 20 rows\n",
      "\n"
     ]
    }
   ],
   "source": [
    "# 6.13 Repetir usando funciones ventana\n",
    "from pyspark.sql import functions as F\n",
    "\n",
    "p = Window.partitionBy(\"Desc_Barrio\", \"Desc_Distrito\")\n",
    "\n",
    "padron_win = (padron_df\n",
    ".withColumn(\"Total\", F.sum(\"EspanolesHombres\").over(p))\n",
    ".select(\"Desc_Barrio\", \"Desc_Distrito\", \"Total\")\n",
    ".distinct())\n",
    "\n",
    "padron_win.show()"
   ]
  },
  {
   "cell_type": "markdown",
   "metadata": {},
   "source": [
    "Con __pivot__ podemos pasar el valor de una fila como columna."
   ]
  },
  {
   "cell_type": "code",
   "execution_count": 16,
   "metadata": {},
   "outputs": [
    {
     "name": "stdout",
     "output_type": "stream",
     "text": [
      "+------------+-----------------+------------------+------------------+\n",
      "|Cod_Edad_Int|          Barajas|            Centro|            Retiro|\n",
      "+------------+-----------------+------------------+------------------+\n",
      "|           0|5.483870967741935|2.3545454545454545|3.4193548387096775|\n",
      "|           1|5.774193548387097|2.3423423423423424|3.9361702127659575|\n",
      "|           2|6.741935483870968|2.3394495412844036| 4.258064516129032|\n",
      "|           3|7.580645161290323|2.2181818181818183| 4.531914893617022|\n",
      "|           4|8.064516129032258| 2.238532110091743| 4.638297872340425|\n",
      "|           5|8.225806451612904| 2.272727272727273| 4.585106382978723|\n",
      "|           6|7.838709677419355|2.2818181818181817|  4.76595744680851|\n",
      "|           7|8.709677419354838| 2.128440366972477| 4.585106382978723|\n",
      "|           8|8.129032258064516| 2.390909090909091| 4.659574468085107|\n",
      "|           9|8.580645161290322| 2.409090909090909| 4.537634408602151|\n",
      "|          10|8.516129032258064|2.3423423423423424| 4.425531914893617|\n",
      "|          11|8.483870967741936|2.3636363636363638| 4.648936170212766|\n",
      "|          12|9.193548387096774|2.3545454545454545| 4.542553191489362|\n",
      "|          13|8.129032258064516| 2.358490566037736|  4.23404255319149|\n",
      "|          14|9.096774193548388| 2.467889908256881| 4.585106382978723|\n",
      "|          15|8.483870967741936|2.2454545454545456|               4.5|\n",
      "|          16|7.870967741935484|2.3454545454545452| 4.382978723404255|\n",
      "|          17|8.290322580645162|2.5135135135135136| 4.763440860215054|\n",
      "|          18|6.870967741935484| 2.327272727272727|4.3936170212765955|\n",
      "|          19| 6.67741935483871|2.3873873873873874| 4.623655913978495|\n",
      "+------------+-----------------+------------------+------------------+\n",
      "only showing top 20 rows\n",
      "\n"
     ]
    }
   ],
   "source": [
    "# Con pivot mostrar la media de mujeres españolas por barrio y rango de edad\n",
    "# con \"centro\", \"barajas\" y \"retiro\" como columnas\n",
    "\n",
    "padron_pivot = (padron_df.groupBy(\"Cod_Edad_Int\")\n",
    "               .pivot(\"Desc_Distrito\", [\"BARAJAS\", \"CENTRO\", \"RETIRO\"])\n",
    "               .avg(\"EspanolesMujeres\")\n",
    "               .orderBy(\"Cod_Edad_Int\")\n",
    "              .withColumnRenamed(\"BARAJAS\",\"Barajas\")\n",
    "              .withColumnRenamed(\"CENTRO\",\"Centro\")\n",
    "              .withColumnRenamed(\"RETIRO\",\"Retiro\"))\n",
    "\n",
    "padron_pivot.show()"
   ]
  },
  {
   "cell_type": "code",
   "execution_count": 17,
   "metadata": {},
   "outputs": [
    {
     "name": "stdout",
     "output_type": "stream",
     "text": [
      "+------------+-----------------+------------------+------------------+---------------+--------------+--------------+\n",
      "|Cod_Edad_Int|          Barajas|            Centro|            Retiro|Barajas_Percent|Centro_Percent|Retiro_Percent|\n",
      "+------------+-----------------+------------------+------------------+---------------+--------------+--------------+\n",
      "|           0|5.483870967741935|2.3545454545454545|3.4193548387096775|          48.71|         20.91|         30.37|\n",
      "|           1|5.774193548387097|2.3423423423423424|3.9361702127659575|          47.91|         19.43|         32.66|\n",
      "|           2|6.741935483870968|2.3394495412844036| 4.258064516129032|          50.54|         17.54|         31.92|\n",
      "|           3|7.580645161290323|2.2181818181818183| 4.531914893617022|           52.9|         15.48|         31.62|\n",
      "|           4|8.064516129032258| 2.238532110091743| 4.638297872340425|          53.97|         14.98|         31.04|\n",
      "|           5|8.225806451612904| 2.272727272727273| 4.585106382978723|          54.53|         15.07|          30.4|\n",
      "|           6|7.838709677419355|2.2818181818181817|  4.76595744680851|          52.66|         15.33|         32.02|\n",
      "|           7|8.709677419354838| 2.128440366972477| 4.585106382978723|          56.47|          13.8|         29.73|\n",
      "|           8|8.129032258064516| 2.390909090909091| 4.659574468085107|          53.55|         15.75|          30.7|\n",
      "|           9|8.580645161290322| 2.409090909090909| 4.537634408602151|          55.26|         15.52|         29.22|\n",
      "|          10|8.516129032258064|2.3423423423423424| 4.425531914893617|          55.72|         15.33|         28.96|\n",
      "|          11|8.483870967741936|2.3636363636363638| 4.648936170212766|          54.75|         15.25|          30.0|\n",
      "|          12|9.193548387096774|2.3545454545454545| 4.542553191489362|          57.14|         14.63|         28.23|\n",
      "|          13|8.129032258064516| 2.358490566037736|  4.23404255319149|          55.22|         16.02|         28.76|\n",
      "|          14|9.096774193548388| 2.467889908256881| 4.585106382978723|          56.33|         15.28|         28.39|\n",
      "|          15|8.483870967741936|2.2454545454545456|               4.5|          55.71|         14.74|         29.55|\n",
      "|          16|7.870967741935484|2.3454545454545452| 4.382978723404255|          53.91|         16.07|         30.02|\n",
      "|          17|8.290322580645162|2.5135135135135136| 4.763440860215054|          53.25|         16.15|          30.6|\n",
      "|          18|6.870967741935484| 2.327272727272727|4.3936170212765955|          50.55|         17.12|         32.33|\n",
      "|          19| 6.67741935483871|2.3873873873873874| 4.623655913978495|          48.78|         17.44|         33.78|\n",
      "+------------+-----------------+------------------+------------------+---------------+--------------+--------------+\n",
      "only showing top 20 rows\n",
      "\n"
     ]
    }
   ],
   "source": [
    "# 6.15 Crear 3 nuevas columnas que hagan referencia a qué % de EspanolesMujeres de cada rango de edad\n",
    "# representa cada distrito. Redondea a 2 decimales\n",
    "tot = col(\"Barajas\") + col(\"Centro\") + col(\"Retiro\")\n",
    "padron_percent = (padron_pivot\n",
    "                  .withColumn(\"Barajas_Percent\",\n",
    "                             round(col(\"Barajas\") / tot * 100, 2))\n",
    "                  .withColumn(\"Centro_Percent\",\n",
    "                             round(col(\"Centro\") / tot * 100, 2))\n",
    "                  .withColumn(\"Retiro_Percent\",\n",
    "                             round(col(\"Retiro\") / tot * 100, 2)))\n",
    "\n",
    "padron_percent.show()"
   ]
  },
  {
   "cell_type": "markdown",
   "metadata": {},
   "source": [
    "Del mismo modo que hemos leído un archivo csv a dataframe, podemos hacer el proceso contrario y guardar un dataframe como csv o cualquier otro formato."
   ]
  },
  {
   "cell_type": "code",
   "execution_count": 18,
   "metadata": {},
   "outputs": [],
   "source": [
    "# 6.16 Guardar el archivo csv particionado por distrito y barrio en local\n",
    "ruta = \"Desktop/PadronCSV\"\n",
    "(padron_part.write\n",
    " .partitionBy(\"Desc_Distrito\", \"Desc_Barrio\")\n",
    " .format(\"csv\")\n",
    " .mode(\"overwrite\")\n",
    " .save(ruta))"
   ]
  }
 ],
 "metadata": {
  "kernelspec": {
   "display_name": "Python 3",
   "language": "python",
   "name": "python3"
  },
  "language_info": {
   "codemirror_mode": {
    "name": "ipython",
    "version": 3
   },
   "file_extension": ".py",
   "mimetype": "text/x-python",
   "name": "python",
   "nbconvert_exporter": "python",
   "pygments_lexer": "ipython3",
   "version": "3.8.5"
  }
 },
 "nbformat": 4,
 "nbformat_minor": 4
}
